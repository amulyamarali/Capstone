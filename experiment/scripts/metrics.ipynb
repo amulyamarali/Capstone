{
 "cells": [
  {
   "cell_type": "code",
   "execution_count": 1,
   "metadata": {},
   "outputs": [
    {
     "ename": "NameError",
     "evalue": "name 'ast' is not defined",
     "output_type": "error",
     "traceback": [
      "\u001b[1;31m---------------------------------------------------------------------------\u001b[0m",
      "\u001b[1;31mNameError\u001b[0m                                 Traceback (most recent call last)",
      "Input \u001b[1;32mIn [1]\u001b[0m, in \u001b[0;36m<cell line: 8>\u001b[1;34m()\u001b[0m\n\u001b[0;32m      8\u001b[0m \u001b[38;5;28;01mwith\u001b[39;00m \u001b[38;5;28mopen\u001b[39m(file_name, \u001b[38;5;124m'\u001b[39m\u001b[38;5;124mr\u001b[39m\u001b[38;5;124m'\u001b[39m) \u001b[38;5;28;01mas\u001b[39;00m file:\n\u001b[0;32m      9\u001b[0m     file_content \u001b[38;5;241m=\u001b[39m file\u001b[38;5;241m.\u001b[39mread()\n\u001b[1;32m---> 10\u001b[0m     new_data \u001b[38;5;241m=\u001b[39m \u001b[43mast\u001b[49m\u001b[38;5;241m.\u001b[39mliteral_eval(file_content)\n\u001b[0;32m     11\u001b[0m     \u001b[38;5;28;01mif\u001b[39;00m \u001b[38;5;28misinstance\u001b[39m(new_data, \u001b[38;5;28mlist\u001b[39m):\n\u001b[0;32m     12\u001b[0m         triples\u001b[38;5;241m.\u001b[39mextend(new_data)\n",
      "\u001b[1;31mNameError\u001b[0m: name 'ast' is not defined"
     ]
    }
   ],
   "source": [
    "import numpy as np\n",
    "from pykeen.triples import TriplesFactory\n",
    "from pykeen.evaluation import RankBasedEvaluator\n",
    "\n",
    "triples = []\n",
    "file_name = \"D:/PESU/CAPSTONE/github/Capstone/experiment/data/triples.txt\"\n",
    "\n",
    "with open(file_name, 'r') as file:\n",
    "    file_content = file.read()\n",
    "    new_data = ast.literal_eval(file_content)\n",
    "    if isinstance(new_data, list):\n",
    "        triples.extend(new_data)\n",
    "    else:\n",
    "        print(\"The data in the file is not a list.\")"
   ]
  },
  {
   "cell_type": "markdown",
   "metadata": {},
   "source": [
    "TRANSE EMBEDDING"
   ]
  },
  {
   "cell_type": "code",
   "execution_count": 13,
   "metadata": {},
   "outputs": [
    {
     "ename": "NameError",
     "evalue": "name 'torch' is not defined",
     "output_type": "error",
     "traceback": [
      "\u001b[1;31m---------------------------------------------------------------------------\u001b[0m",
      "\u001b[1;31mNameError\u001b[0m                                 Traceback (most recent call last)",
      "Input \u001b[1;32mIn [13]\u001b[0m, in \u001b[0;36m<cell line: 2>\u001b[1;34m()\u001b[0m\n\u001b[0;32m      1\u001b[0m file_path \u001b[38;5;241m=\u001b[39m \u001b[38;5;124m\"\u001b[39m\u001b[38;5;124mexperiment/models/transe_model.pth\u001b[39m\u001b[38;5;124m\"\u001b[39m\n\u001b[1;32m----> 2\u001b[0m model \u001b[38;5;241m=\u001b[39m \u001b[43mtorch\u001b[49m\u001b[38;5;241m.\u001b[39mload(file_path, map_location\u001b[38;5;241m=\u001b[39mtorch\u001b[38;5;241m.\u001b[39mdevice(\u001b[38;5;124m'\u001b[39m\u001b[38;5;124mcpu\u001b[39m\u001b[38;5;124m'\u001b[39m))\n\u001b[0;32m      4\u001b[0m \u001b[38;5;66;03m# Convert to numpy array\u001b[39;00m\n\u001b[0;32m      5\u001b[0m triples_array \u001b[38;5;241m=\u001b[39m np\u001b[38;5;241m.\u001b[39marray(triples)\n",
      "\u001b[1;31mNameError\u001b[0m: name 'torch' is not defined"
     ]
    }
   ],
   "source": [
    "file_path = \"experiment/models/transe_model.pth\"\n",
    "model = torch.load(file_path, map_location=torch.device('cpu'))\n",
    "\n",
    "# Convert to numpy array\n",
    "triples_array = np.array(triples)\n",
    "\n",
    "# Create a triples factory\n",
    "triples_factory = TriplesFactory.from_labeled_triples(triples_array)\n",
    "\n",
    "\n",
    "# Use the triples factory for evaluation\n",
    "evaluator = RankBasedEvaluator()\n",
    "results = evaluator.evaluate(model=model, mapped_triples=triples_factory.mapped_triples)\n",
    "\n",
    "# Print evaluation results\n",
    "print(results)\n",
    "\n",
    "print(\"Mean Rank (MR):\", results.get_metric('mean_rank'))\n",
    "print(\"Mean Reciprocal Rank (MRR):\", results.get_metric('mean_reciprocal_rank'))\n",
    "print(\"Hits@1:\", results.get_metric('hits_at_1'))\n",
    "print(\"Hits@3:\", results.get_metric('hits_at_3'))\n",
    "print(\"Hits@10:\", results.get_metric('hits_at_10'))"
   ]
  },
  {
   "cell_type": "markdown",
   "metadata": {},
   "source": [
    "COMPLEX EMBEDDING"
   ]
  },
  {
   "cell_type": "code",
   "execution_count": 16,
   "metadata": {},
   "outputs": [
    {
     "name": "stderr",
     "output_type": "stream",
     "text": [
      "The filtered setting was enabled, but there were no `additional_filter_triples`\n",
      "given. This means you probably forgot to pass (at least) the training triples. Try:\n",
      "\n",
      "    additional_filter_triples=[dataset.training.mapped_triples]\n",
      "\n",
      "Or if you want to use the Bordes et al. (2013) approach to filtering, do:\n",
      "\n",
      "    additional_filter_triples=[\n",
      "        dataset.training.mapped_triples,\n",
      "        dataset.validation.mapped_triples,\n",
      "    ]\n",
      "\n",
      "Evaluating on cpu:   0%|          | 0.00/1.40k [00:00<?, ?triple/s]Encountered tensors on device_types={'cpu'} while only ['cuda'] are considered safe for automatic memory utilization maximization. This may lead to undocumented crashes (but can be safe, too).\n",
      "Evaluating on cpu: 100%|██████████| 1.40k/1.40k [00:00<00:00, 2.12ktriple/s]"
     ]
    },
    {
     "name": "stdout",
     "output_type": "stream",
     "text": [
      "<pykeen.evaluation.rank_based_evaluator.RankBasedMetricResults object at 0x00000250654832D0>\n",
      "Mean Rank (MR): 49.41511535644531\n",
      "Mean Reciprocal Rank (MRR): 0.6720051765441895\n",
      "Hits@1: 0.6275071633237822\n",
      "Hits@3: 0.6887535816618912\n",
      "Hits@10: 0.7636103151862464\n"
     ]
    },
    {
     "name": "stderr",
     "output_type": "stream",
     "text": [
      "\n"
     ]
    }
   ],
   "source": [
    "file_path = 'experiment/models/complex_model.pth'\n",
    "model = torch.load(file_path, map_location=torch.device('cpu'))\n",
    "\n",
    "# Convert to numpy array\n",
    "triples_array = np.array(triples)\n",
    "\n",
    "# Create a triples factory\n",
    "triples_factory = TriplesFactory.from_labeled_triples(triples_array)\n",
    "\n",
    "\n",
    "# Use the triples factory for evaluation\n",
    "evaluator = RankBasedEvaluator()\n",
    "results = evaluator.evaluate(model=model, mapped_triples=triples_factory.mapped_triples)\n",
    "\n",
    "# Print evaluation results\n",
    "print(results)\n",
    "\n",
    "print(\"Mean Rank (MR):\", results.get_metric('mean_rank'))\n",
    "print(\"Mean Reciprocal Rank (MRR):\", results.get_metric('mean_reciprocal_rank'))\n",
    "print(\"Hits@1:\", results.get_metric('hits_at_1'))\n",
    "print(\"Hits@3:\", results.get_metric('hits_at_3'))\n",
    "print(\"Hits@10:\", results.get_metric('hits_at_10'))"
   ]
  },
  {
   "cell_type": "markdown",
   "metadata": {},
   "source": [
    "RESCAL EMBEDDING"
   ]
  },
  {
   "cell_type": "code",
   "execution_count": 18,
   "metadata": {},
   "outputs": [
    {
     "name": "stderr",
     "output_type": "stream",
     "text": [
      "The filtered setting was enabled, but there were no `additional_filter_triples`\n",
      "given. This means you probably forgot to pass (at least) the training triples. Try:\n",
      "\n",
      "    additional_filter_triples=[dataset.training.mapped_triples]\n",
      "\n",
      "Or if you want to use the Bordes et al. (2013) approach to filtering, do:\n",
      "\n",
      "    additional_filter_triples=[\n",
      "        dataset.training.mapped_triples,\n",
      "        dataset.validation.mapped_triples,\n",
      "    ]\n",
      "\n",
      "Evaluating on cpu:   0%|          | 0.00/1.40k [00:00<?, ?triple/s]Encountered tensors on device_types={'cpu'} while only ['cuda'] are considered safe for automatic memory utilization maximization. This may lead to undocumented crashes (but can be safe, too).\n",
      "Evaluating on cpu: 100%|██████████| 1.40k/1.40k [00:00<00:00, 7.06ktriple/s]"
     ]
    },
    {
     "name": "stdout",
     "output_type": "stream",
     "text": [
      "<pykeen.evaluation.rank_based_evaluator.RankBasedMetricResults object at 0x00000250650AC250>\n",
      "Mean Rank (MR): 238.5995635986328\n",
      "Mean Reciprocal Rank (MRR): 0.01689148135483265\n",
      "Hits@1: 0.007879656160458453\n",
      "Hits@3: 0.01002865329512894\n",
      "Hits@10: 0.021131805157593123\n"
     ]
    },
    {
     "name": "stderr",
     "output_type": "stream",
     "text": [
      "\n"
     ]
    }
   ],
   "source": [
    "file_path = 'experiment/models/rescal_model.pth'\n",
    "model = torch.load(file_path, map_location=torch.device('cpu'))\n",
    "\n",
    "# Convert to numpy array\n",
    "triples_array = np.array(triples)\n",
    "\n",
    "# Create a triples factory\n",
    "triples_factory = TriplesFactory.from_labeled_triples(triples_array)\n",
    "\n",
    "\n",
    "# Use the triples factory for evaluation\n",
    "evaluator = RankBasedEvaluator()\n",
    "results = evaluator.evaluate(model=model, mapped_triples=triples_factory.mapped_triples)\n",
    "\n",
    "# Print evaluation results\n",
    "print(results)\n",
    "\n",
    "print(\"Mean Rank (MR):\", results.get_metric('mean_rank'))\n",
    "print(\"Mean Reciprocal Rank (MRR):\", results.get_metric('mean_reciprocal_rank'))\n",
    "print(\"Hits@1:\", results.get_metric('hits_at_1'))\n",
    "print(\"Hits@3:\", results.get_metric('hits_at_3'))\n",
    "print(\"Hits@10:\", results.get_metric('hits_at_10'))"
   ]
  },
  {
   "cell_type": "markdown",
   "metadata": {},
   "source": [
    "HOLE EMBEDDING"
   ]
  },
  {
   "cell_type": "code",
   "execution_count": 19,
   "metadata": {},
   "outputs": [
    {
     "name": "stderr",
     "output_type": "stream",
     "text": [
      "The filtered setting was enabled, but there were no `additional_filter_triples`\n",
      "given. This means you probably forgot to pass (at least) the training triples. Try:\n",
      "\n",
      "    additional_filter_triples=[dataset.training.mapped_triples]\n",
      "\n",
      "Or if you want to use the Bordes et al. (2013) approach to filtering, do:\n",
      "\n",
      "    additional_filter_triples=[\n",
      "        dataset.training.mapped_triples,\n",
      "        dataset.validation.mapped_triples,\n",
      "    ]\n",
      "\n",
      "Evaluating on cpu:   0%|          | 0.00/1.40k [00:00<?, ?triple/s]Encountered tensors on device_types={'cpu'} while only ['cuda'] are considered safe for automatic memory utilization maximization. This may lead to undocumented crashes (but can be safe, too).\n",
      "Evaluating on cpu: 100%|██████████| 1.40k/1.40k [00:01<00:00, 918triple/s]"
     ]
    },
    {
     "name": "stdout",
     "output_type": "stream",
     "text": [
      "<pykeen.evaluation.rank_based_evaluator.RankBasedMetricResults object at 0x00000250635419D0>\n",
      "Mean Rank (MR): 195.9290771484375\n",
      "Mean Reciprocal Rank (MRR): 0.04484664276242256\n",
      "Hits@1: 0.020773638968481375\n",
      "Hits@3: 0.039040114613180514\n",
      "Hits@10: 0.07414040114613181\n"
     ]
    },
    {
     "name": "stderr",
     "output_type": "stream",
     "text": [
      "\n"
     ]
    }
   ],
   "source": [
    "file_path = 'experiment/models/hole_model.pth'\n",
    "model = torch.load(file_path, map_location=torch.device('cpu'))\n",
    "\n",
    "# Convert to numpy array\n",
    "triples_array = np.array(triples)\n",
    "\n",
    "# Create a triples factory\n",
    "triples_factory = TriplesFactory.from_labeled_triples(triples_array)\n",
    "\n",
    "\n",
    "# Use the triples factory for evaluation\n",
    "evaluator = RankBasedEvaluator()\n",
    "results = evaluator.evaluate(model=model, mapped_triples=triples_factory.mapped_triples)\n",
    "\n",
    "# Print evaluation results\n",
    "print(results)\n",
    "\n",
    "print(\"Mean Rank (MR):\", results.get_metric('mean_rank'))\n",
    "print(\"Mean Reciprocal Rank (MRR):\", results.get_metric('mean_reciprocal_rank'))\n",
    "print(\"Hits@1:\", results.get_metric('hits_at_1'))\n",
    "print(\"Hits@3:\", results.get_metric('hits_at_3'))\n",
    "print(\"Hits@10:\", results.get_metric('hits_at_10'))"
   ]
  },
  {
   "cell_type": "markdown",
   "metadata": {},
   "source": [
    "DISTMULT EMBEDDING"
   ]
  },
  {
   "cell_type": "code",
   "execution_count": 5,
   "metadata": {},
   "outputs": [
    {
     "data": {
      "application/javascript": "\n        if (window._pyforest_update_imports_cell) { window._pyforest_update_imports_cell('import torch'); }\n    ",
      "text/plain": [
       "<IPython.core.display.Javascript object>"
      ]
     },
     "metadata": {},
     "output_type": "display_data"
    },
    {
     "data": {
      "application/javascript": "\n        if (window._pyforest_update_imports_cell) { window._pyforest_update_imports_cell('import torch'); }\n    ",
      "text/plain": [
       "<IPython.core.display.Javascript object>"
      ]
     },
     "metadata": {},
     "output_type": "display_data"
    },
    {
     "name": "stderr",
     "output_type": "stream",
     "text": [
      "The filtered setting was enabled, but there were no `additional_filter_triples`\n",
      "given. This means you probably forgot to pass (at least) the training triples. Try:\n",
      "\n",
      "    additional_filter_triples=[dataset.training.mapped_triples]\n",
      "\n",
      "Or if you want to use the Bordes et al. (2013) approach to filtering, do:\n",
      "\n",
      "    additional_filter_triples=[\n",
      "        dataset.training.mapped_triples,\n",
      "        dataset.validation.mapped_triples,\n",
      "    ]\n",
      "\n",
      "Evaluating on cpu:   0%|          | 0.00/1.40k [00:00<?, ?triple/s]Encountered tensors on device_types={'cpu'} while only ['cuda'] are considered safe for automatic memory utilization maximization. This may lead to undocumented crashes (but can be safe, too).\n",
      "Evaluating on cpu: 100%|██████████| 1.40k/1.40k [00:00<00:00, 3.33ktriple/s]"
     ]
    },
    {
     "name": "stdout",
     "output_type": "stream",
     "text": [
      "<pykeen.evaluation.rank_based_evaluator.RankBasedMetricResults object at 0x00000244FADD16D0>\n",
      "Mean Rank (MR): 40.16547393798828\n",
      "Mean Reciprocal Rank (MRR): 0.7404466867446899\n",
      "Hits@1: 0.701647564469914\n",
      "Hits@3: 0.7661174785100286\n",
      "Hits@10: 0.8051575931232091\n"
     ]
    },
    {
     "name": "stderr",
     "output_type": "stream",
     "text": [
      "\n"
     ]
    }
   ],
   "source": [
    "file_path = 'experiment/models/distmult_model.pth'\n",
    "model = torch.load(file_path, map_location=torch.device('cpu'))\n",
    "\n",
    "# Convert to numpy array\n",
    "triples_array = np.array(triples)\n",
    "\n",
    "# Create a triples factory\n",
    "triples_factory = TriplesFactory.from_labeled_triples(triples_array)\n",
    "\n",
    "\n",
    "# Use the triples factory for evaluation\n",
    "evaluator = RankBasedEvaluator()\n",
    "results = evaluator.evaluate(model=model, mapped_triples=triples_factory.mapped_triples)\n",
    "\n",
    "# Print evaluation results\n",
    "print(results)\n",
    "\n",
    "print(\"Mean Rank (MR):\", results.get_metric('mean_rank'))\n",
    "print(\"Mean Reciprocal Rank (MRR):\", results.get_metric('mean_reciprocal_rank'))\n",
    "print(\"Hits@1:\", results.get_metric('hits_at_1'))\n",
    "print(\"Hits@3:\", results.get_metric('hits_at_3'))\n",
    "print(\"Hits@10:\", results.get_metric('hits_at_10'))"
   ]
  }
 ],
 "metadata": {
  "kernelspec": {
   "display_name": "Python 3 (ipykernel)",
   "language": "python",
   "name": "python3"
  }
 },
 "nbformat": 4,
 "nbformat_minor": 2
}
